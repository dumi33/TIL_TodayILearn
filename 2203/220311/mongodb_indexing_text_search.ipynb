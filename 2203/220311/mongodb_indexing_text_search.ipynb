{
 "cells": [
  {
   "cell_type": "markdown",
   "id": "6c43e4cc",
   "metadata": {},
   "source": [
    "## 2. mongodb 인덱스 (INDEX)\n",
    "- 검색을 더 빠르게 수행하고자 만든 추가적인 data structure\n",
    "    - index 데이터 구조가 없다면, 컬렉션에 있는 데이터를 하나씩 조회하는 방식으로 검색이 됨"
   ]
  },
  {
   "cell_type": "markdown",
   "id": "998297b8",
   "metadata": {},
   "source": [
    "#### mongodb 접속 기본 코드"
   ]
  },
  {
   "cell_type": "code",
   "execution_count": 4,
   "id": "32e4470b",
   "metadata": {},
   "outputs": [],
   "source": [
    "from bs4 import BeautifulSoup\n",
    "import requests\n",
    "import pymongo\n",
    "import re # 정규표현식을 위해 \n",
    "\n",
    "conn = pymongo.MongoClient()\n",
    "actor_db = conn.cine21\n",
    "actor_collection = actor_db.actor_collection"
   ]
  },
  {
   "cell_type": "markdown",
   "id": "629691c2",
   "metadata": {},
   "source": [
    "### 2.1 기본 인덱스 _id\n",
    "- 모든 mongodb 컬렉션은 기본적으로 _id 필드를 기반으로 기본 인덱스가 생성됨 "
   ]
  },
  {
   "cell_type": "markdown",
   "id": "73f567a1",
   "metadata": {},
   "source": [
    "### 2.2 Single(단일) 필드 인덱스"
   ]
  },
  {
   "cell_type": "code",
   "execution_count": 18,
   "id": "6946037a",
   "metadata": {
    "scrolled": true
   },
   "outputs": [
    {
     "data": {
      "text/plain": [
       "'배우이름_1'"
      ]
     },
     "execution_count": 18,
     "metadata": {},
     "output_type": "execute_result"
    }
   ],
   "source": [
    " actor_collection.create_index('배우이름')"
   ]
  },
  {
   "cell_type": "code",
   "execution_count": 31,
   "id": "3bc592c4",
   "metadata": {},
   "outputs": [
    {
     "data": {
      "text/plain": [
       "{'_id_': {'v': 2, 'key': [('_id', 1)]},\n",
       " '직업_text': {'v': 2,\n",
       "  'key': [('_fts', 'text'), ('_ftsx', 1)],\n",
       "  'weights': SON([('직업', 1)]),\n",
       "  'default_language': 'english',\n",
       "  'language_override': 'language',\n",
       "  'textIndexVersion': 3}}"
      ]
     },
     "execution_count": 31,
     "metadata": {},
     "output_type": "execute_result"
    }
   ],
   "source": [
    "actor_collection.index_information()"
   ]
  },
  {
   "cell_type": "code",
   "execution_count": 21,
   "id": "4a471938",
   "metadata": {},
   "outputs": [
    {
     "name": "stdout",
     "output_type": "stream",
     "text": [
      "{'_id': ObjectId('622a0fc3dd0d5d6a79a538d5'), '배우이름': '마동석', '흥행지수': 19492, '출연영화': ['나쁜 녀석들: 더 무비', '신과 함께-인과 연', '성난황소', '동네사람들', '원더풀 고스트', '노리개: 그녀의 눈물'], '랭킹': '2', '직업': '배우', '생년월일': '1971-03-01', '성별': '남', '홈페이지': '\\nhttps://www.instagram.com/madongseok_/\\nhttps://twitter.com/madongseok12\\n', '신장/체중': '178cm, 100kg', '다른이름': 'Ma Dongseok'}\n"
     ]
    }
   ],
   "source": [
    "docs = actor_collection.find({'배우이름' : '마동석'})\n",
    "for doc in docs :\n",
    "    print(doc)"
   ]
  },
  {
   "cell_type": "markdown",
   "id": "3357b136",
   "metadata": {},
   "source": [
    "#### 부분 문자열 검색을 위해,  text index 생성"
   ]
  },
  {
   "cell_type": "code",
   "execution_count": 30,
   "id": "f25c634e",
   "metadata": {
    "scrolled": true
   },
   "outputs": [
    {
     "data": {
      "text/plain": [
       "'직업_text'"
      ]
     },
     "execution_count": 30,
     "metadata": {},
     "output_type": "execute_result"
    }
   ],
   "source": [
    " actor_collection.create_index([('직업' ,'text')])"
   ]
  },
  {
   "cell_type": "markdown",
   "id": "8e9d24c4",
   "metadata": {},
   "source": [
    "#### 부분 문자열 검색: $ text"
   ]
  },
  {
   "cell_type": "code",
   "execution_count": 32,
   "id": "14645a8e",
   "metadata": {
    "scrolled": true
   },
   "outputs": [
    {
     "name": "stdout",
     "output_type": "stream",
     "text": [
      "{'_id': ObjectId('622a0fc3dd0d5d6a79a53907'), '배우이름': '배수지', '흥행지수': 4531, '출연영화': ['백두산', '건축학개론'], '랭킹': '52', '직업': '가수', '생년월일': '1994-10-10', '성별': '여', '홈페이지': '\\nhttps://twitter.com/missa_suzy\\nhttps://www.instagram.com/skuukzky/\\n', '신장/체중': '166cm, 47kg', '학교': '서울 공연예술고등학교', '소속사': 'JYP엔터테인먼트', '다른이름': '배수지;미쓰에이;'}\n",
      "{'_id': ObjectId('622a0fc3dd0d5d6a79a538fe'), '배우이름': '임윤아', '흥행지수': 5120, '출연영화': ['기적', '엑시트', '해피 뉴 이어', '공조'], '랭킹': '43', '직업': '가수', '생년월일': '1990-05-30', '성별': '여', '홈페이지': '\\nhttps://www.instagram.com/yoona__lim/\\n', '소속사': 'SM엔터테인먼트', '다른이름': '소녀시대; girlsgeneration; girls generation'}\n"
     ]
    }
   ],
   "source": [
    "docs = actor_collection.find({'$text' : {'$search' : '가수'}})\n",
    "for doc in docs :\n",
    "    print(doc)"
   ]
  },
  {
   "cell_type": "markdown",
   "id": "4f03270f",
   "metadata": {},
   "source": [
    "- key : ('필드명',direction)\n",
    "    - direction\n",
    "        - pymongo.ASCENDING = 1\n",
    "        - pymongo.DESCENDING = -1\n",
    "        - pymongo.TEXT ='text'"
   ]
  },
  {
   "cell_type": "markdown",
   "id": "d952af0e",
   "metadata": {},
   "source": [
    "### 전체 인덱스 삭제"
   ]
  },
  {
   "cell_type": "code",
   "execution_count": 35,
   "id": "0c18acf1",
   "metadata": {},
   "outputs": [],
   "source": [
    "actor_collection.drop_indexes() # 기본 인덱스 이외에는 전부 삭제"
   ]
  },
  {
   "cell_type": "code",
   "execution_count": 36,
   "id": "58e232fb",
   "metadata": {},
   "outputs": [
    {
     "data": {
      "text/plain": [
       "{'_id_': {'v': 2, 'key': [('_id', 1)]}}"
      ]
     },
     "execution_count": 36,
     "metadata": {},
     "output_type": "execute_result"
    }
   ],
   "source": [
    "actor_collection.index_information()"
   ]
  },
  {
   "cell_type": "markdown",
   "id": "8fe4d55c",
   "metadata": {},
   "source": [
    "### 특정 인덱스 삭제"
   ]
  },
  {
   "cell_type": "code",
   "execution_count": 11,
   "id": "5af0ad90",
   "metadata": {},
   "outputs": [],
   "source": [
    "actor_collection.drop_index([(('배우이름', 1))])"
   ]
  },
  {
   "cell_type": "code",
   "execution_count": 12,
   "id": "fe743d14",
   "metadata": {
    "scrolled": true
   },
   "outputs": [
    {
     "data": {
      "text/plain": [
       "{'_id_': {'v': 2, 'key': [('_id', 1)]}}"
      ]
     },
     "execution_count": 12,
     "metadata": {},
     "output_type": "execute_result"
    }
   ],
   "source": [
    "actor_collection.index_information()"
   ]
  },
  {
   "cell_type": "code",
   "execution_count": 14,
   "id": "a5d4a46c",
   "metadata": {
    "scrolled": true
   },
   "outputs": [
    {
     "data": {
      "text/plain": [
       "'직업_-1'"
      ]
     },
     "execution_count": 14,
     "metadata": {},
     "output_type": "execute_result"
    }
   ],
   "source": [
    " actor_collection.create_index([('직업',-1)])"
   ]
  },
  {
   "cell_type": "code",
   "execution_count": 15,
   "id": "8e2418e9",
   "metadata": {},
   "outputs": [
    {
     "data": {
      "text/plain": [
       "{'_id_': {'v': 2, 'key': [('_id', 1)]}, '직업_-1': {'v': 2, 'key': [('직업', -1)]}}"
      ]
     },
     "execution_count": 15,
     "metadata": {},
     "output_type": "execute_result"
    }
   ],
   "source": [
    "actor_collection.index_information()"
   ]
  },
  {
   "cell_type": "markdown",
   "id": "70c06b77",
   "metadata": {},
   "source": [
    "### 2.3 Compound(복합) 필드 인덱스\n",
    "- 최대 31개의 필드로 만들 수 있음 "
   ]
  },
  {
   "cell_type": "code",
   "execution_count": 37,
   "id": "35781284",
   "metadata": {},
   "outputs": [
    {
     "data": {
      "text/plain": [
       "'출연영화_text_직업_text'"
      ]
     },
     "execution_count": 37,
     "metadata": {},
     "output_type": "execute_result"
    }
   ],
   "source": [
    "actor_collection.create_index([('출연영화',pymongo.TEXT),('직업',pymongo.TEXT)])"
   ]
  },
  {
   "cell_type": "code",
   "execution_count": 40,
   "id": "fb57516c",
   "metadata": {},
   "outputs": [
    {
     "name": "stdout",
     "output_type": "stream",
     "text": [
      "{'_id': ObjectId('622a0fc3dd0d5d6a79a53907'), '배우이름': '배수지', '흥행지수': 4531, '출연영화': ['백두산', '건축학개론'], '랭킹': '52', '직업': '가수', '생년월일': '1994-10-10', '성별': '여', '홈페이지': '\\nhttps://twitter.com/missa_suzy\\nhttps://www.instagram.com/skuukzky/\\n', '신장/체중': '166cm, 47kg', '학교': '서울 공연예술고등학교', '소속사': 'JYP엔터테인먼트', '다른이름': '배수지;미쓰에이;'}\n",
      "{'_id': ObjectId('622a0fc3dd0d5d6a79a538fe'), '배우이름': '임윤아', '흥행지수': 5120, '출연영화': ['기적', '엑시트', '해피 뉴 이어', '공조'], '랭킹': '43', '직업': '가수', '생년월일': '1990-05-30', '성별': '여', '홈페이지': '\\nhttps://www.instagram.com/yoona__lim/\\n', '소속사': 'SM엔터테인먼트', '다른이름': '소녀시대; girlsgeneration; girls generation'}\n"
     ]
    }
   ],
   "source": [
    "docs = actor_collection.find({'$text' : {'$search' : '가수'}})\n",
    "for doc in docs :\n",
    "    print(doc)"
   ]
  },
  {
   "cell_type": "code",
   "execution_count": 39,
   "id": "7c637e46",
   "metadata": {},
   "outputs": [
    {
     "name": "stdout",
     "output_type": "stream",
     "text": [
      "{'_id': ObjectId('622a0fc3dd0d5d6a79a5395b'), '배우이름': '정해균', '흥행지수': 1960, '출연영화': ['신과 함께-인과 연', '나랏말싸미', '성난황소', '신과 함께-죄와 벌', '사라진 시간', '악녀'], '랭킹': '136', '직업': '배우', '생년월일': '1968-08-16', '성별': '남'}\n",
      "{'_id': ObjectId('622a0fc3dd0d5d6a79a53933'), '배우이름': '이준혁', '흥행지수': 2820, '출연영화': ['신과 함께-인과 연', '야구소녀', '신과 함께-죄와 벌'], '랭킹': '96', '직업': '배우', '생년월일': '1984-03-13', '성별': '남', '홈페이지': '\\nhttps://twitter.com/4eyedjack\\n', '신장/체중': '181cm, 70kg', '학교': '한신대학교 광고홍보학'}\n",
      "{'_id': ObjectId('622a0fc3dd0d5d6a79a538fb'), '배우이름': '임원희', '흥행지수': 5418, '출연영화': ['신과 함께-인과 연', '천문: 하늘에 묻는다', '재혼의 기술', '도굴', '죽거나 혹은 나쁘거나', '신과 함께-죄와 벌'], '랭킹': '40', '직업': '배우', '생년월일': '1970-10-11', '성별': '남', '신장/체중': '175cm, 68kg', '학교': '서울예술대학 연극', '소속사': '빌리지엔터테인먼트'}\n",
      "{'_id': ObjectId('622a0fc3dd0d5d6a79a538f8'), '배우이름': '김동욱', '흥행지수': 5587, '출연영화': ['신과 함께-인과 연', '어쩌다, 결혼', '신과 함께-죄와 벌'], '랭킹': '37', '직업': '배우', '생년월일': '1983-07-29', '성별': '남', '신장/체중': '175cm, 60kg', '학교': '한국예술종합학교 연극원', '취미': '음악듣기, 축구', '특기': '기계체조'}\n",
      "{'_id': ObjectId('622a0fc3dd0d5d6a79a538e3'), '배우이름': '김향기', '흥행지수': 8761, '출연영화': ['신과 함께-인과 연', '아이', '영주', '증인', '신과 함께-죄와 벌', '우아한 거짓말'], '랭킹': '16', '직업': '배우', '생년월일': '2000-08-09', '성별': '여', '홈페이지': '\\nhttps://twitter.com/smell2001\\n', '특기': '애교 부리기, 피아노 치기'}\n",
      "{'_id': ObjectId('622a0fc3dd0d5d6a79a538d9'), '배우이름': '주지훈', '흥행지수': 14826, '출연영화': ['신과 함께-인과 연', '공작', '암수살인', '신과 함께-죄와 벌', '아수라', '서양골동양과자점 앤티크'], '랭킹': '6', '원어명': '주지훈', '직업': '배우', '생년월일': '1982-05-16', '성별': '남', '홈페이지': '\\nhttps://www.instagram.com/_jujihoon/\\n', '신장/체중': '187cm, 68kg', '학교': '경기대학교 연기', '취미': '컴퓨터 게임', '특기': '속독, 노래, 춤, 합기도, 피아노', '다른이름': '주영훈'}\n",
      "{'_id': ObjectId('622a0fc3dd0d5d6a79a538d4'), '배우이름': '하정우', '흥행지수': 21764, '출연영화': ['신과 함께-인과 연', '백두산', 'PMC: 더 벙커', '클로젯', '신과 함께-죄와 벌', '멋진 하루'], '랭킹': '1', '직업': '배우', '생년월일': '1978-03-11', '성별': '남', '홈페이지': '\\nhttps://www.facebook.com/ft.hajungwoo\\n', '신장/체중': '184cm, 75kg', '학교': '중앙대학교 연극학 학사', '취미': '피아노, 검도, 수영', '다른이름': '김성훈; 河正宇'}\n",
      "{'_id': ObjectId('622a0fc3dd0d5d6a79a53923'), '배우이름': '남일우', '흥행지수': 3476, '출연영화': ['신과 함께-인과 연', '친절한 금자씨', '검은 사제들', '남자가 사랑할 때', '내부자들'], '랭킹': '80', '직업': '배우', '생년월일': '1938-05-25', '성별': '남'}\n",
      "{'_id': ObjectId('622a0fc3dd0d5d6a79a53913'), '배우이름': '장광', '흥행지수': 4027, '출연영화': ['신과 함께-인과 연', '협상', '안시성', '동네사람들', '강철비2: 정상회담', '가나의 혼인잔치: 언약'], '랭킹': '64', '직업': '배우', '생년월일': '1952-01-05', '성별': '남'}\n",
      "{'_id': ObjectId('622a0fc3dd0d5d6a79a538e7'), '배우이름': '조한철', '흥행지수': 7950, '출연영화': ['신과 함께-인과 연', '백두산', '국가부도의 날', '세자매', '로망', '블랙머니'], '랭킹': '20', '직업': '배우', '생년월일': '1973-05-13', '성별': '남'}\n",
      "{'_id': ObjectId('622a0fc3dd0d5d6a79a538d5'), '배우이름': '마동석', '흥행지수': 19492, '출연영화': ['나쁜 녀석들: 더 무비', '신과 함께-인과 연', '성난황소', '동네사람들', '원더풀 고스트', '노리개: 그녀의 눈물'], '랭킹': '2', '직업': '배우', '생년월일': '1971-03-01', '성별': '남', '홈페이지': '\\nhttps://www.instagram.com/madongseok_/\\nhttps://twitter.com/madongseok12\\n', '신장/체중': '178cm, 100kg', '다른이름': 'Ma Dongseok'}\n"
     ]
    }
   ],
   "source": [
    "docs = actor_collection.find({'$text' : {'$search' : '신과'}})\n",
    "for doc in docs :\n",
    "    print(doc) "
   ]
  },
  {
   "cell_type": "markdown",
   "id": "7e5e8fe4",
   "metadata": {},
   "source": [
    "#### 2.4 다양한 문자열 검색"
   ]
  },
  {
   "cell_type": "code",
   "execution_count": 41,
   "id": "d2bb9267",
   "metadata": {},
   "outputs": [
    {
     "name": "stdout",
     "output_type": "stream",
     "text": [
      "{'_id': ObjectId('622a0fc3dd0d5d6a79a538ee'), '배우이름': '강기영', '흥행지수': 7082, '출연영화': ['엑시트', '너의 결혼식', '가장 보통의 연애', '자산어보', '퍼즐'], '랭킹': '27', '직업': '배우', '생년월일': '1983-10-14', '성별': '남', '홈페이지': '\\nhttps://instagram.com/kiyoung.kang.5/\\n'}\n",
      "{'_id': ObjectId('622a0fc3dd0d5d6a79a538f1'), '배우이름': '조정석', '흥행지수': 6541, '출연영화': ['마약왕', '뺑반', '엑시트', '형', '시간이탈자', '특종: 량첸살인기'], '랭킹': '30', '직업': '배우', '생년월일': '1980-12-26', '성별': '남', '홈페이지': '\\nhttps://twitter.com/jojeol\\n'}\n",
      "{'_id': ObjectId('622a0fc3dd0d5d6a79a538fe'), '배우이름': '임윤아', '흥행지수': 5120, '출연영화': ['기적', '엑시트', '해피 뉴 이어', '공조'], '랭킹': '43', '직업': '가수', '생년월일': '1990-05-30', '성별': '여', '홈페이지': '\\nhttps://www.instagram.com/yoona__lim/\\n', '소속사': 'SM엔터테인먼트', '다른이름': '소녀시대; girlsgeneration; girls generation'}\n",
      "{'_id': ObjectId('622a0fc3dd0d5d6a79a5390c'), '배우이름': '박인환', '흥행지수': 4260, '출연영화': ['엑시트', '킹메이커', '봄날은 간다', '푸른 노을', '기묘한 가족', '비밥바룰라'], '랭킹': '57', '직업': '배우', '생년월일': '1945-01-06', '성별': '남', '학교': '중앙대학교 연극영화과 학사'}\n",
      "{'_id': ObjectId('622a0fc3dd0d5d6a79a5390d'), '배우이름': '이봉련', '흥행지수': 4227, '출연영화': ['엑시트', '82년생 김지영', '마약왕', '국제수사', '생일'], '랭킹': '58', '직업': '배우', '성별': '여'}\n",
      "{'_id': ObjectId('622a0fc3dd0d5d6a79a53910'), '배우이름': '고두심', '흥행지수': 4136, '출연영화': ['엑시트', '빛나는 순간'], '랭킹': '61', '직업': '배우', '생년월일': '1951-05-22', '성별': '여', '홈페이지': '\\nhttp://www.kodoosim.com/\\n', '신장/체중': '160cm', '학교': '제주여자고등학교'}\n",
      "{'_id': ObjectId('622a0fc3dd0d5d6a79a53921'), '배우이름': '김지영', '흥행지수': 3529, '출연영화': ['엑시트', '프랑스여자'], '랭킹': '78', '직업': '배우', '생년월일': '1974-09-07', '성별': '여', '홈페이지': '\\nhttps://twitter.com/velvety74\\n', '학교': '한양대학교 문화인류학', '취미': '그림 그리기, 스키 등의 스포츠, 데생, 점묘화', '특기': '피아노, 노래 부르기', '소속사': '올스트엔터테인먼트'}\n",
      "{'_id': ObjectId('622a0fc3dd0d5d6a79a53931'), '배우이름': '김종구', '흥행지수': 2928, '출연영화': ['엑시트', '좋은 사람', '사랑의 선물', '욕창', '우리 손자 베스트', '시'], '랭킹': '94', '직업': '배우', '생년월일': '1955-06-08', '성별': '남'}\n",
      "{'_id': ObjectId('622a0fc3dd0d5d6a79a5393f'), '배우이름': '김병순', '흥행지수': 2626, '출연영화': ['엑시트', '마더'], '랭킹': '108', '직업': '배우', '성별': '남'}\n",
      "{'_id': ObjectId('622a0fc3dd0d5d6a79a53949'), '배우이름': '황효은', '흥행지수': 2333, '출연영화': ['엑시트'], '랭킹': '118', '직업': '배우', '생년월일': '1978-06-04', '성별': '여', '홈페이지': '\\nhttp://instagram.com/nan2in97\\n', '신장/체중': '165cm, 53kg', '학교': '서일대학 연극영화', '특기': '노래', '다른이름': '황현인'}\n"
     ]
    }
   ],
   "source": [
    "docs = actor_collection.find({'출연영화' : {'$regex' : '엑시트'}})\n",
    "for doc in docs :\n",
    "    print(doc) "
   ]
  },
  {
   "cell_type": "markdown",
   "id": "8a247a14",
   "metadata": {},
   "source": [
    "## <font color = \"blue\" size = \"4em\"> 실습 </font><br>\n",
    "### 배우중에 중앙대학교를 나온 배우를 흥행지수 순으로 최대 10명 출력하라 "
   ]
  },
  {
   "cell_type": "code",
   "execution_count": 47,
   "id": "a3c070c9",
   "metadata": {},
   "outputs": [
    {
     "name": "stdout",
     "output_type": "stream",
     "text": [
      "{'_id': ObjectId('622a0fc3dd0d5d6a79a538d9'), '배우이름': '주지훈', '흥행지수': 14826, '출연영화': ['신과 함께-인과 연', '공작', '암수살인', '신과 함께-죄와 벌', '아수라', '서양골동양과자점 앤티크'], '랭킹': '6', '원어명': '주지훈', '직업': '배우', '생년월일': '1982-05-16', '성별': '남', '홈페이지': '\\nhttps://www.instagram.com/_jujihoon/\\n', '신장/체중': '187cm, 68kg', '학교': '경기대학교 연기', '취미': '컴퓨터 게임', '특기': '속독, 노래, 춤, 합기도, 피아노', '다른이름': '주영훈'}\n"
     ]
    }
   ],
   "source": [
    "docs = actor_collection.find({'학교' : {'$regex' : '경기대학교'}}).sort('흥행지수',pymongo.DESCENDING).limit(10)\n",
    "for doc in docs :\n",
    "    print(doc) "
   ]
  },
  {
   "cell_type": "code",
   "execution_count": null,
   "id": "7a9373e0",
   "metadata": {},
   "outputs": [],
   "source": []
  }
 ],
 "metadata": {
  "kernelspec": {
   "display_name": "Python 3 (ipykernel)",
   "language": "python",
   "name": "python3"
  },
  "language_info": {
   "codemirror_mode": {
    "name": "ipython",
    "version": 3
   },
   "file_extension": ".py",
   "mimetype": "text/x-python",
   "name": "python",
   "nbconvert_exporter": "python",
   "pygments_lexer": "ipython3",
   "version": "3.9.7"
  }
 },
 "nbformat": 4,
 "nbformat_minor": 5
}
